{
 "cells": [
  {
   "cell_type": "markdown",
   "metadata": {
    "application/vnd.databricks.v1+cell": {
     "cellMetadata": {},
     "inputWidgets": {},
     "nuid": "eb3ad752-1672-4038-8ff9-210c8dd26839",
     "showTitle": false,
     "tableResultSettingsMap": {},
     "title": ""
    }
   },
   "source": [
    "Creamos un DataFrame para manipular los datos con Spark"
   ]
  },
  {
   "cell_type": "code",
   "execution_count": 0,
   "metadata": {
    "application/vnd.databricks.v1+cell": {
     "cellMetadata": {
      "byteLimit": 2048000,
      "rowLimit": 10000
     },
     "inputWidgets": {},
     "nuid": "15a244c7-593d-4985-abe4-a8b56ebab43e",
     "showTitle": false,
     "tableResultSettingsMap": {},
     "title": ""
    }
   },
   "outputs": [],
   "source": [
    "df = spark.table(\"workspace.aprendizaje.datos_empleados\")\n",
    "\n",
    "#Conteo de registros cargados\n",
    "\n",
    "df.count()"
   ]
  },
  {
   "cell_type": "code",
   "execution_count": 0,
   "metadata": {
    "application/vnd.databricks.v1+cell": {
     "cellMetadata": {
      "byteLimit": 2048000,
      "rowLimit": 10000
     },
     "inputWidgets": {},
     "nuid": "1d6b7c0e-5f0b-43e8-9ab1-d8b7a0388c42",
     "showTitle": false,
     "tableResultSettingsMap": {},
     "title": ""
    }
   },
   "outputs": [],
   "source": [
    "#validamos registros duplicados por id\n",
    "from pyspark.sql import functions as F\n",
    "\n",
    "# Agrupar y detectar duplicados\n",
    "df.groupBy(\"Employee_ID\") \\\n",
    "  .agg(F.count(\"*\").alias(\"conteo\")) \\\n",
    "  .filter(F.col(\"conteo\") > 1) \\\n",
    "  .show()\n"
   ]
  },
  {
   "cell_type": "code",
   "execution_count": 0,
   "metadata": {
    "application/vnd.databricks.v1+cell": {
     "cellMetadata": {
      "byteLimit": 2048000,
      "rowLimit": 10000
     },
     "inputWidgets": {},
     "nuid": "e71d43d1-f7db-4a86-9eb1-3152d2e4d9bb",
     "showTitle": false,
     "tableResultSettingsMap": {},
     "title": ""
    }
   },
   "outputs": [],
   "source": [
    "#dESCRIBIMOS EL DF\n",
    "df.describe()\n",
    "#cONTEO DE REGISTROS\n",
    "df.count()\n",
    "\n",
    "#Schema del df\n",
    "df.printSchema()"
   ]
  },
  {
   "cell_type": "code",
   "execution_count": 0,
   "metadata": {
    "application/vnd.databricks.v1+cell": {
     "cellMetadata": {
      "byteLimit": 2048000,
      "rowLimit": 10000
     },
     "inputWidgets": {},
     "nuid": "8ee63b59-d6dd-4709-a891-2a15972d88ad",
     "showTitle": false,
     "tableResultSettingsMap": {},
     "title": ""
    }
   },
   "outputs": [],
   "source": [
    "df.describe()"
   ]
  },
  {
   "cell_type": "code",
   "execution_count": 0,
   "metadata": {
    "application/vnd.databricks.v1+cell": {
     "cellMetadata": {
      "byteLimit": 2048000,
      "rowLimit": 10000
     },
     "inputWidgets": {},
     "nuid": "fcdffa06-42ba-4c13-8fe9-7a5e27607dda",
     "showTitle": false,
     "tableResultSettingsMap": {},
     "title": ""
    }
   },
   "outputs": [],
   "source": [
    "df.display()"
   ]
  },
  {
   "cell_type": "code",
   "execution_count": 0,
   "metadata": {
    "application/vnd.databricks.v1+cell": {
     "cellMetadata": {
      "byteLimit": 2048000,
      "rowLimit": 10000
     },
     "inputWidgets": {},
     "nuid": "34f7590a-0a07-48f7-8182-a11b3bafe02c",
     "showTitle": false,
     "tableResultSettingsMap": {},
     "title": ""
    }
   },
   "outputs": [],
   "source": [
    "#Vamos a ver las funciones de agregado\n",
    "from pyspark.sql import functions as F\n",
    "# importamos col, sum, max, etc \n",
    "from pyspark.sql.functions import col, sum, max, min, avg\n",
    "\n",
    "df.select(\n",
    "  max(col(\"Salary\")).alias(\"maximo de los salarios\"),\n",
    "  min(col(\"Salary\")).alias(\"minimo de los salarios\"),\n",
    "  avg(col(\"Salary\")).alias(\"promedio de los salarios\"),\n",
    "  sum(col(\"Salary\")).alias(\"suma de los salarios\"),\n",
    "  max(col(\"Age\")).alias(\"la edad mayor\"),\n",
    "  min(col(\"Age\")).alias(\"la edad menor\")\n",
    ").display()\n"
   ]
  },
  {
   "cell_type": "code",
   "execution_count": 0,
   "metadata": {
    "application/vnd.databricks.v1+cell": {
     "cellMetadata": {
      "byteLimit": 2048000,
      "rowLimit": 10000
     },
     "inputWidgets": {},
     "nuid": "7979eedf-1508-4671-af4a-6f7282a929d7",
     "showTitle": false,
     "tableResultSettingsMap": {
      "0": {
       "dataGridStateBlob": "{\"version\":1,\"tableState\":{\"columnPinning\":{\"left\":[\"#row_number#\"],\"right\":[]},\"columnSizing\":{},\"columnVisibility\":{}},\"settings\":{\"columns\":{}},\"syncTimestamp\":1761439528287}",
       "filterBlob": null,
       "queryPlanFiltersBlob": null,
       "tableResultIndex": 0
      }
     },
     "title": ""
    }
   },
   "outputs": [],
   "source": [
    "#creacion de datframe por genero\n",
    "df_generos = df.select(\"Gender\").distinct()\n",
    "\n",
    "from pyspark.sql.functions import monotonically_increasing_id\n",
    "\n",
    "df_generos = df_generos.withColumn(\"Id_Genero\", monotonically_increasing_id())\n",
    "\n",
    "df_generos.withColumn(\"Id_Genero\", col(\"Genero\"))\n",
    "\n",
    "df_generos = df_generos.select(col(\"Id_Genero\").cast(\"int\"), \"Gender\")\n",
    "\n",
    "df_generos.select(\n",
    "  sum(\"Id_Genero\")\n",
    ").show()\n",
    "\n",
    "df_generos.display()\n",
    "\n",
    "df_generos.describe()"
   ]
  },
  {
   "cell_type": "code",
   "execution_count": 0,
   "metadata": {
    "application/vnd.databricks.v1+cell": {
     "cellMetadata": {
      "byteLimit": 2048000,
      "rowLimit": 10000
     },
     "inputWidgets": {},
     "nuid": "50306abc-ea28-441e-8211-982fe920614c",
     "showTitle": false,
     "tableResultSettingsMap": {
      "0": {
       "dataGridStateBlob": "{\"version\":1,\"tableState\":{\"columnPinning\":{\"left\":[\"#row_number#\"],\"right\":[]},\"columnSizing\":{},\"columnVisibility\":{}},\"settings\":{\"columns\":{}},\"syncTimestamp\":1761439889151}",
       "filterBlob": null,
       "queryPlanFiltersBlob": null,
       "tableResultIndex": 0
      }
     },
     "title": ""
    }
   },
   "outputs": [],
   "source": [
    "#Creacion df departamentos\n",
    "df_departamentos = df.select(\"Department\").distinct()\n",
    "df_departamentos = df_departamentos.withColumn(\"Id_Departamento\", monotonically_increasing_id())\n",
    "\n",
    "df_departamentos = df_departamentos.select(\"Id_Departamento\", \"Department\")\n",
    "\n",
    "df_departamentos.display()\n"
   ]
  },
  {
   "cell_type": "code",
   "execution_count": 0,
   "metadata": {
    "application/vnd.databricks.v1+cell": {
     "cellMetadata": {
      "byteLimit": 2048000,
      "rowLimit": 10000
     },
     "inputWidgets": {},
     "nuid": "6336b171-4904-41d5-a7c4-8cd3d9f4a309",
     "showTitle": false,
     "tableResultSettingsMap": {},
     "title": ""
    }
   },
   "outputs": [],
   "source": [
    "df_job_title = df.select(\"Job_Title\").distinct()\n",
    "df_job_title = df_job_title.withColumn(\"Id_Job_Title\", monotonically_increasing_id())\n",
    "\n",
    "df_job_title = df_job_title.select(\"Id_Job_Title\", \"Job_Title\")\n",
    "\n",
    "df_job_title.display()"
   ]
  },
  {
   "cell_type": "code",
   "execution_count": 0,
   "metadata": {
    "application/vnd.databricks.v1+cell": {
     "cellMetadata": {
      "byteLimit": 2048000,
      "rowLimit": 10000
     },
     "inputWidgets": {},
     "nuid": "37109bf1-6c2c-4da6-96bb-b5a3942e7cc6",
     "showTitle": false,
     "tableResultSettingsMap": {},
     "title": ""
    }
   },
   "outputs": [],
   "source": [
    "df_education_level = df.select(\"Education_Level\").distinct()\n",
    "df_education_level = df_education_level.withColumn(\"Id_Education_Level\", monotonically_increasing_id())\n",
    "\n",
    "df_education_level = df_education_level.select(col(\"Id_Education_Level\").cast(\"int\"), \"Education_Level\")\n",
    "\n",
    "df_education_level.display()"
   ]
  },
  {
   "cell_type": "code",
   "execution_count": 0,
   "metadata": {
    "application/vnd.databricks.v1+cell": {
     "cellMetadata": {
      "byteLimit": 2048000,
      "rowLimit": 10000
     },
     "inputWidgets": {},
     "nuid": "0020dc2a-3973-490c-ae68-81d088f751b8",
     "showTitle": false,
     "tableResultSettingsMap": {},
     "title": ""
    }
   },
   "outputs": [],
   "source": [
    "#Guardamos los catalogos creados:\n",
    "# Guardar el DataFrame como tabla permanente en el metastore\n",
    "df_generos.write.mode(\"overwrite\").saveAsTable(\"workspace.aprendizaje.df_generos\")\n",
    "df_departamentos.write.mode(\"overwrite\").saveAsTable(\"workspace.aprendizaje.df_departamentos\")\n",
    "df_job_title.write.mode(\"overwrite\").saveAsTable(\"workspace.aprendizaje.df_job_title\")\n",
    "df_education_level.write.mode(\"overwrite\").saveAsTable(\"workspace.aprendizaje.df_education_level\")"
   ]
  },
  {
   "cell_type": "code",
   "execution_count": 0,
   "metadata": {
    "application/vnd.databricks.v1+cell": {
     "cellMetadata": {
      "byteLimit": 2048000,
      "implicitDf": true,
      "rowLimit": 10000
     },
     "inputWidgets": {},
     "nuid": "0ec25c6d-4e75-4b38-b758-6b030e2997d6",
     "showTitle": false,
     "tableResultSettingsMap": {},
     "title": ""
    }
   },
   "outputs": [],
   "source": [
    "%sql\n",
    "SHOW SCHEMAS IN workspace;\n"
   ]
  },
  {
   "cell_type": "code",
   "execution_count": 0,
   "metadata": {
    "application/vnd.databricks.v1+cell": {
     "cellMetadata": {
      "byteLimit": 2048000,
      "rowLimit": 10000
     },
     "inputWidgets": {},
     "nuid": "db281973-ff08-4b6c-bc59-6981efde0a89",
     "showTitle": false,
     "tableResultSettingsMap": {},
     "title": ""
    }
   },
   "outputs": [],
   "source": [
    "# Guardar los catálogos como tablas permanentes en el esquema 'aprendizaje'\n",
    "df_generos.write.mode(\"overwrite\").saveAsTable(\"aprendizaje.df_generos\")\n",
    "df_departamentos.write.mode(\"overwrite\").saveAsTable(\"aprendizaje.df_departamentos\")\n",
    "df_job_title.write.mode(\"overwrite\").saveAsTable(\"aprendizaje.df_job_title\")\n",
    "df_education_level.write.mode(\"overwrite\").saveAsTable(\"aprendizaje.df_education_level\")\n"
   ]
  }
 ],
 "metadata": {
  "application/vnd.databricks.v1+notebook": {
   "computePreferences": null,
   "dashboards": [],
   "environmentMetadata": null,
   "inputWidgetPreferences": null,
   "language": "python",
   "notebookMetadata": {
    "mostRecentlyExecutedCommandWithImplicitDF": {
     "commandId": 7919041644399318,
     "dataframes": [
      "_sqldf"
     ]
    },
    "pythonIndentUnit": 2
   },
   "notebookName": "Explore workspace.aprendizaje.datos_empleados 2025-10-25 19:13:58",
   "widgets": {}
  },
  "language_info": {
   "name": "python"
  }
 },
 "nbformat": 4,
 "nbformat_minor": 0
}
