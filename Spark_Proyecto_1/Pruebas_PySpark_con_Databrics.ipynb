{
 "cells": [
  {
   "cell_type": "code",
   "execution_count": 0,
   "metadata": {
    "application/vnd.databricks.v1+cell": {
     "cellMetadata": {
      "byteLimit": 2048000,
      "rowLimit": 10000
     },
     "inputWidgets": {},
     "nuid": "1bdfe408-ce46-44f7-9b03-4ab95d0d7a73",
     "showTitle": false,
     "tableResultSettingsMap": {},
     "title": ""
    }
   },
   "outputs": [],
   "source": [
    "import uuid\n",
    "#importamos la funcion lit\n",
    "from pyspark.sql.functions import lit\n",
    "\n",
    "# Variables de rutas y metadatos\n",
    "entidad = \"empleados\"\n",
    "source_file = \"workspace.fuentes_csv.datos_empleados_20251028\"\n",
    "target_file = \"workspace.capa_bronze.stg1_datos_empleados\"\n",
    "source_system = \"hr_system\"\n",
    "pipeline_run_id = str(uuid.uuid4())\n",
    "\n",
    "# Etapa Bronze: leer la tabla original\n",
    "df_bronze = spark.table(source_file)\n",
    "\n",
    "#Agragamos metadatos tecnicos al df_bronze\n",
    "df_bronze = df_bronze.withColumn(\"source_system\", lit(source_system)) \\\n",
    "                     .withColumn(\"pipeline_run_id\", lit(pipeline_run_id)) \\\n",
    "                     .withColumn(\"entity\", lit(entidad)) \\\n",
    "                     .withColumn(\"source_file\", lit(source_file)) \\\n",
    "                     .withColumn(\"target_file\", lit(target_file))\n",
    "\n",
    "# Guardar el DataFrame como tabla Delta en la etapa Bronze (Medallón)\n",
    "df_bronze.write.format(\"delta\").mode(\"overwrite\").saveAsTable(target_file)\n",
    "\n",
    "# Leer la tabla Bronze\n",
    "bronze_table_df = spark.table(target_file)\n",
    "\n",
    "# Contar registros\n",
    "num_registros = bronze_table_df.count()\n",
    "print(f\"Cantidad de registros en Bronze: {num_registros}\")\n",
    "\n",
    "df_bronze.describe()"
   ]
  },
  {
   "cell_type": "code",
   "execution_count": 0,
   "metadata": {
    "application/vnd.databricks.v1+cell": {
     "cellMetadata": {},
     "inputWidgets": {},
     "nuid": "ffd1485e-3d45-4d70-b203-401912a3e665",
     "showTitle": false,
     "tableResultSettingsMap": {},
     "title": ""
    }
   },
   "outputs": [],
   "source": []
  }
 ],
 "metadata": {
  "application/vnd.databricks.v1+notebook": {
   "computePreferences": null,
   "dashboards": [],
   "environmentMetadata": {
    "base_environment": "",
    "environment_version": "4"
   },
   "inputWidgetPreferences": null,
   "language": "python",
   "notebookMetadata": {
    "pythonIndentUnit": 4
   },
   "notebookName": "Pruebas_PySpark_con_Databrics",
   "widgets": {}
  },
  "language_info": {
   "name": "python"
  }
 },
 "nbformat": 4,
 "nbformat_minor": 0
}
